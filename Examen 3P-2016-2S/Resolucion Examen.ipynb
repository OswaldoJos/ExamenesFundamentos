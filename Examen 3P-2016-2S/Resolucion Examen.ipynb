{
 "cells": [
  {
   "cell_type": "markdown",
   "metadata": {},
   "source": [
    "# <font color = \"darkred\">TERCERA EVALUACIÓN - II TÉRMINO 2016-2017/ Marzo 7, 2017</font>"
   ]
  },
  {
   "cell_type": "markdown",
   "metadata": {},
   "source": [
    " "
   ]
  },
  {
   "cell_type": "markdown",
   "metadata": {},
   "source": [
    "## <font color =\"darkblue\">TEMA 1 </font>"
   ]
  },
  {
   "attachments": {},
   "cell_type": "markdown",
   "metadata": {},
   "source": [
    "<img src=\"tema1.png\">"
   ]
  },
  {
   "cell_type": "markdown",
   "metadata": {},
   "source": [
    " "
   ]
  },
  {
   "attachments": {},
   "cell_type": "markdown",
   "metadata": {},
   "source": [
    "<img src=\"tema1Literal1.png\">"
   ]
  },
  {
   "cell_type": "code",
   "execution_count": 1,
   "metadata": {
    "collapsed": true
   },
   "outputs": [],
   "source": [
    "def obtenerClientes(nombreArchivo):\n",
    "    archivo = open(nombreArchivo)\n",
    "    clientes = {}\n",
    "    for linea in archivo:\n",
    "        cedula, numero, sector, minutos, estado = linea.strip().split(\",\")\n",
    "        nacionales,internacionales = minutos.split(\"|\")\n",
    "        if cedula not in clientes:\n",
    "            clientes[cedula] ={}\n",
    "        clientes[cedula][numero] = {\"sector\": sector, \"estado\": estado, \"nac\": int(nacionales), \"inter\": int(internacionales)}\n",
    "    archivo.close()\n",
    "    return clientes"
   ]
  },
  {
   "cell_type": "code",
   "execution_count": 2,
   "metadata": {
    "collapsed": true
   },
   "outputs": [],
   "source": [
    "dclientes = obtenerClientes(\"Clientes.csv\")"
   ]
  },
  {
   "cell_type": "code",
   "execution_count": 3,
   "metadata": {},
   "outputs": [
    {
     "data": {
      "text/plain": [
       "{'1174253723': {'04-283497': {'estado': 'Activo',\n",
       "   'inter': 27,\n",
       "   'nac': 15,\n",
       "   'sector': 'Norte'},\n",
       "  '04-324426': {'estado': 'Cortado', 'inter': 9, 'nac': 0, 'sector': 'Norte'},\n",
       "  '04-430419': {'estado': 'Cortado',\n",
       "   'inter': 30,\n",
       "   'nac': 30,\n",
       "   'sector': 'Oeste'}},\n",
       " '1278112648': {'04-383056': {'estado': 'Activo',\n",
       "   'inter': 15,\n",
       "   'nac': 50,\n",
       "   'sector': 'Sur'},\n",
       "  '04-443288': {'estado': 'Activo',\n",
       "   'inter': 30,\n",
       "   'nac': 12,\n",
       "   'sector': 'Norte'}},\n",
       " '1302511926': {'04-325363': {'estado': 'Activo',\n",
       "   'inter': 12,\n",
       "   'nac': 90,\n",
       "   'sector': 'Este'}},\n",
       " '1729478396': {'04-437289': {'estado': 'Activo',\n",
       "   'inter': 2,\n",
       "   'nac': 4,\n",
       "   'sector': 'Centro'}},\n",
       " '2061722895': {'04-356539': {'estado': 'Cortado',\n",
       "   'inter': 40,\n",
       "   'nac': 17,\n",
       "   'sector': 'Norte'}}}"
      ]
     },
     "execution_count": 3,
     "metadata": {},
     "output_type": "execute_result"
    }
   ],
   "source": [
    " dclientes"
   ]
  },
  {
   "cell_type": "markdown",
   "metadata": {},
   "source": [
    "<img src=\"tema1Literal2.png\">"
   ]
  },
  {
   "cell_type": "code",
   "execution_count": 6,
   "metadata": {
    "collapsed": true
   },
   "outputs": [],
   "source": [
    "def calcularTarifaInt(minutos):\n",
    "    if minutos < 60:\n",
    "        return minutos * 0.05\n",
    "    if minutos < 90:\n",
    "        return minutos * 0.04\n",
    "    return minutos * 0.03\n",
    "\n",
    "def generarFactura(dclientes):\n",
    "    for cliente, telefonos in dclientes.items():\n",
    "        lineas = [\"Empresa Telefonica de Guayaquil\"]\n",
    "        lineas.append(\"Cliente: \" + cliente)\n",
    "        lineas.append(\"Detalle Deuda:\")\n",
    "        total = 0\n",
    "        for telefono, valores in dclientes[cliente].items():\n",
    "            nacional = valores[\"nac\"] * 0.03\n",
    "            internacional = calcularTarifaInt(valores[\"inter\"])\n",
    "            total += nacional + internacional\n",
    "            linea = telefono + \"nac: \" + str(nacional) + \" inter: \" + str(internacional) + \" total: \" + str(nacional + internacional)\n",
    "            lineas.append(linea)\n",
    "        lineas.append(\"Total a Pagar: \" + str(total))\n",
    "        archivo = open(cliente +\".txt\", \"w\")\n",
    "        archivo.write(\"\\n\".join(lineas))\n",
    "        archivo.close()\n",
    "        "
   ]
  },
  {
   "cell_type": "code",
   "execution_count": 7,
   "metadata": {},
   "outputs": [
    {
     "data": {
      "text/plain": [
       "'Generado'"
      ]
     },
     "execution_count": 7,
     "metadata": {},
     "output_type": "execute_result"
    }
   ],
   "source": [
    "generarFactura(dclientes)\n",
    "\"Generado\""
   ]
  },
  {
   "attachments": {},
   "cell_type": "markdown",
   "metadata": {},
   "source": [
    "<img src = \"tema1Literal3.png\">"
   ]
  },
  {
   "cell_type": "code",
   "execution_count": 8,
   "metadata": {
    "collapsed": true
   },
   "outputs": [],
   "source": [
    "def estadisticaSector(dclientes,sector):\n",
    "    dic = {\"Nacionales\": [], \"Internacionales\": []}\n",
    "    \n",
    "    for telefonos in dclientes.values():\n",
    "        for info in telefonos.values():\n",
    "            if info[\"sector\"] == sector and info[\"estado\"] == \"Activo\":\n",
    "                dic[\"Nacionales\"].append(info[\"nac\"])\n",
    "                dic[\"Internacionales\"].append(info[\"inter\"])\n",
    "    dic[\"Nacionales\"] = float(sum(dic[\"Nacionales\"]))/ len(dic[\"Nacionales\"])\n",
    "    dic[\"Internacionales\"] = float(sum(dic[\"Internacionales\"]))/ len(dic[\"Internacionales\"])\n",
    "    return dic"
   ]
  },
  {
   "cell_type": "code",
   "execution_count": 9,
   "metadata": {},
   "outputs": [
    {
     "data": {
      "text/plain": [
       "{'Internacionales': 28.5, 'Nacionales': 13.5}"
      ]
     },
     "execution_count": 9,
     "metadata": {},
     "output_type": "execute_result"
    }
   ],
   "source": [
    "estadisticaSector(dclientes,\"Norte\")"
   ]
  },
  {
   "cell_type": "markdown",
   "metadata": {},
   "source": [
    " "
   ]
  },
  {
   "cell_type": "markdown",
   "metadata": {},
   "source": [
    "## <font color =\"darkblue\">TEMA 2 </font>"
   ]
  },
  {
   "cell_type": "markdown",
   "metadata": {},
   "source": [
    "<img src = \"tema2F.png\">"
   ]
  },
  {
   "cell_type": "code",
   "execution_count": 21,
   "metadata": {},
   "outputs": [],
   "source": [
    "import numpy as np\n",
    "JRV_H = np.random.randint(1,100, (20,5))\n",
    "JRV_M = np.random.randint(1,100, (20,5))"
   ]
  },
  {
   "cell_type": "markdown",
   "metadata": {},
   "source": [
    "<img src = \"tema2Literal1.png\">"
   ]
  },
  {
   "cell_type": "code",
   "execution_count": 22,
   "metadata": {
    "collapsed": true
   },
   "outputs": [],
   "source": [
    "def contarVotos(JRV_H,JRV_M):\n",
    "    votosH = JRV_H.sum(axis = 0)\n",
    "    votosM = JRV_M.sum(axis = 0)\n",
    "    votosT = votosH + votosM\n",
    "    return tuple(votosT)"
   ]
  },
  {
   "cell_type": "code",
   "execution_count": 23,
   "metadata": {},
   "outputs": [
    {
     "data": {
      "text/plain": [
       "(2429, 1892, 1549, 2254, 1874)"
      ]
     },
     "execution_count": 23,
     "metadata": {},
     "output_type": "execute_result"
    }
   ],
   "source": [
    "contarVotos(JRV_H,JRV_M)"
   ]
  },
  {
   "cell_type": "markdown",
   "metadata": {},
   "source": [
    "<img src =\"tema2Literal2.png\">"
   ]
  },
  {
   "cell_type": "code",
   "execution_count": 35,
   "metadata": {},
   "outputs": [],
   "source": [
    "def SegundaVuelta(JRV_H,JRV_M):\n",
    "    totalV = JRV_H.sum() + JRV_M.sum()\n",
    "    votosC = list(contarVotos(JRV_H,JRV_M))\n",
    "    votosC.sort()\n",
    "    votosC = votosC[::-1]\n",
    "    ganador,segundo = votosC[:2]\n",
    "    porcentajeGanador = float(ganador*100)/totalV\n",
    "    porcentajeSegundo = float(segundo*100)/totalV\n",
    "    return not( (porcentajeGanador > 40) and (porcentajeGanador - porcentajeSegundo) >= 10)"
   ]
  },
  {
   "cell_type": "code",
   "execution_count": 36,
   "metadata": {},
   "outputs": [
    {
     "data": {
      "text/plain": [
       "True"
      ]
     },
     "execution_count": 36,
     "metadata": {},
     "output_type": "execute_result"
    }
   ],
   "source": [
    "SegundaVuelta(JRV_H,JRV_M)"
   ]
  },
  {
   "cell_type": "markdown",
   "metadata": {
    "collapsed": true
   },
   "source": [
    "<img src = \"tema2Literal3.png\">"
   ]
  },
  {
   "cell_type": "code",
   "execution_count": 37,
   "metadata": {},
   "outputs": [
    {
     "data": {
      "text/plain": [
       "(30.00322788896062, 48.68208714362561, 51.31791285637439)"
      ]
     },
     "execution_count": 37,
     "metadata": {},
     "output_type": "execute_result"
    }
   ],
   "source": [
    "def estadistica(JRV_H, JRV_M, candidatos, nombreCandidato):\n",
    "    votosH = JRV_H.sum(axis = 0)\n",
    "    votosM = JRV_M.sum(axis = 0)\n",
    "    indice = candidatos.index(nombreCandidato)\n",
    "    vH,vM = votosH[indice], votosM[indice]\n",
    "    totalV = JRV_H.sum() + JRV_M.sum()\n",
    "    pH,pM = float(vH*100)/totalV, float(vM*100)/totalV\n",
    "    return pH+pM, float(vH*100)/(vH+vM), float(vM*100)/(vH+vM)\n",
    "\n",
    "estadistica(JRV_H, JRV_M, (\"c1\", \"c2\", \"c3\", \"c4\", \"c5\"), \"c3\")"
   ]
  },
  {
   "cell_type": "markdown",
   "metadata": {},
   "source": [
    "<img src = \"tema2Literal4.png\">"
   ]
  },
  {
   "attachments": {
    "image.png": {
     "image/png": "[encoded data removed]"
    }
   },
   "cell_type": "markdown",
   "metadata": {},
   "source": [
    "![image.png](attachment:image.png)"
   ]
  },
  {
   "cell_type": "code",
   "execution_count": 40,
   "metadata": {},
   "outputs": [
    {
     "name": "stdout",
     "output_type": "stream",
     "text": [
      "Elecciones Presidenciales\n",
      "\n",
      "Candidato: Perico De los Palotes\n",
      "% votos totales: 34.2585720647%\n",
      "% votos hombres: 53.596187175%\n",
      "% votos mujeres: 46.403812825%\n",
      "\n",
      "\n",
      "Candidato: Alvaro Noboa\n",
      "% votos totales: 33.2492207214%\n",
      "% votos hombres: 51.6517857143%\n",
      "% votos mujeres: 48.3482142857%\n",
      "\n",
      "\n",
      "Candidato: Juanita Pueblo\n",
      "% votos totales: 32.4922072139%\n",
      "% votos hombres: 39.104613979%\n",
      "% votos mujeres: 60.895386021%\n",
      "\n",
      "SI hay segunda vuelta\n"
     ]
    }
   ],
   "source": [
    "import numpy as np\n",
    "JRV_H = np.random.randint(10,100, (20,3))\n",
    "JRV_M = np.random.randint(10,100, (20,3))\n",
    "candidatos = \"Perico De los Palotes\", \"Alvaro Noboa\", \"Juanita Pueblo\"\n",
    "print \"Elecciones Presidenciales\"\n",
    "for candidato in candidatos:\n",
    "    print\n",
    "    total, hombres, mujeres = estadistica(JRV_H, JRV_M, candidatos, candidato)\n",
    "    print \"Candidato: \"+ candidato\n",
    "    print \"% votos totales: \" +str(total) + \"%\"\n",
    "    print \"% votos hombres: \" +str(hombres) + \"%\"\n",
    "    print \"% votos mujeres: \" +str(mujeres) + \"%\"\n",
    "    aux = [\"NO\", \"SI\"]\n",
    "    segunda = SegundaVuelta(JRV_H,JRV_M)\n",
    "    print\n",
    "print aux[int(segunda)] + \" hay segunda vuelta\""
   ]
  },
  {
   "cell_type": "code",
   "execution_count": null,
   "metadata": {
    "collapsed": true
   },
   "outputs": [],
   "source": []
  }
 ],
 "metadata": {
  "kernelspec": {
   "display_name": "Python 2",
   "language": "python",
   "name": "python2"
  },
  "language_info": {
   "codemirror_mode": {
    "name": "ipython",
    "version": 2
   },
   "file_extension": ".py",
   "mimetype": "text/x-python",
   "name": "python",
   "nbconvert_exporter": "python",
   "pygments_lexer": "ipython2",
   "version": "2.7.13"
  }
 },
 "nbformat": 4,
 "nbformat_minor": 2
}
